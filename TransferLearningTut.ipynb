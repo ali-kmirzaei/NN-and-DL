{
  "nbformat": 4,
  "nbformat_minor": 0,
  "metadata": {
    "colab": {
      "name": "Untitled6.ipynb",
      "provenance": [],
      "authorship_tag": "ABX9TyM25wh8Gv32hTIYRKUrbeHi",
      "include_colab_link": true
    },
    "kernelspec": {
      "name": "python3",
      "display_name": "Python 3"
    },
    "language_info": {
      "name": "python"
    }
  },
  "cells": [
    {
      "cell_type": "markdown",
      "metadata": {
        "id": "view-in-github",
        "colab_type": "text"
      },
      "source": [
        "<a href=\"https://colab.research.google.com/github/ali-kmirzaei/NN-and-DL/blob/main/TransferLearningTut.ipynb\" target=\"_parent\"><img src=\"https://colab.research.google.com/assets/colab-badge.svg\" alt=\"Open In Colab\"/></a>"
      ]
    },
    {
      "cell_type": "markdown",
      "source": [
        "# Libs and Drive"
      ],
      "metadata": {
        "id": "t7sGl3rbdcnd"
      }
    },
    {
      "cell_type": "code",
      "execution_count": 1,
      "metadata": {
        "id": "xelqKwLUT98m"
      },
      "outputs": [],
      "source": [
        "import numpy as np\n",
        "import time\n",
        "import PIL.Image as Image\n",
        "import matplotlib.pylab as plt\n",
        "import tensorflow as tf\n",
        "import tensorflow_hub as hub\n",
        "import datetime\n",
        "import glob\n",
        "import os\n",
        "import tensorflow_datasets as tfds\n",
        "\n",
        "%load_ext tensorboard"
      ]
    },
    {
      "cell_type": "code",
      "source": [
        "# import dataset from google drive\n",
        "from google.colab import drive\n",
        "drive.mount('/content/gdrive')\n",
        "!ln -s /content/gdrive/My\\ Drive/ /mydrive\n",
        "!ls /mydrive"
      ],
      "metadata": {
        "id": "r6s-jcBqU6pz",
        "colab": {
          "base_uri": "https://localhost:8080/"
        },
        "outputId": "89a898fb-909f-4692-c0f9-67bfad3a4e57"
      },
      "execution_count": 3,
      "outputs": [
        {
          "output_type": "stream",
          "name": "stdout",
          "text": [
            "Mounted at /content/gdrive\n",
            " 4001419029.zip  'Colab Notebooks'   last.pt\n",
            " augDataset.zip   datasets.zip\t     mainDataset.zip\n"
          ]
        }
      ]
    },
    {
      "cell_type": "code",
      "source": [
        "!unzip /mydrive/datasets -d datasets"
      ],
      "metadata": {
        "id": "2Z7rCnzEFKhU"
      },
      "execution_count": null,
      "outputs": []
    },
    {
      "cell_type": "code",
      "source": [
        "!mv datasets/datasets/augDataset/ datasets/augDataset/\n",
        "!mv datasets/datasets/mainDataset/ datasets/mainDataset/"
      ],
      "metadata": {
        "id": "dUssky-wFrJ7"
      },
      "execution_count": 20,
      "outputs": []
    },
    {
      "cell_type": "code",
      "source": [
        "!rm -rf datasets/datasets"
      ],
      "metadata": {
        "id": "8jRU89CXHUcj"
      },
      "execution_count": 21,
      "outputs": []
    },
    {
      "cell_type": "markdown",
      "source": [
        "# Create Dataset"
      ],
      "metadata": {
        "id": "Z-1Ir2QzY3Yj"
      }
    },
    {
      "cell_type": "code",
      "source": [
        "SIZE = 224\n",
        "BATCH_SIZE = 64\n",
        "VALIDATION_SPLIT = 0.3\n",
        "# DATA_DIR = 'datasets/mainDataset/'\n",
        "DATA_DIR = 'datasets/augDataset/'\n",
        "\n",
        "train_dataset = tf.keras.preprocessing.image_dataset_from_directory(\n",
        "  DATA_DIR,\n",
        "  labels = 'inferred',\n",
        "  class_names = ['Books', 'Pens'],\n",
        "  shuffle = True,\n",
        "  validation_split = VALIDATION_SPLIT,\n",
        "  seed = 123,\n",
        "  image_size = (SIZE, SIZE),\n",
        "  subset = 'training',\n",
        "  batch_size = BATCH_SIZE\n",
        "  )\n",
        "\n",
        "val_dataset = tf.keras.preprocessing.image_dataset_from_directory(\n",
        "  DATA_DIR,\n",
        "  labels = 'inferred',\n",
        "  class_names = ['Books', 'Pens'],\n",
        "  shuffle = True,\n",
        "  validation_split = VALIDATION_SPLIT,\n",
        "  seed = 123,\n",
        "  image_size = (SIZE, SIZE),\n",
        "  subset = 'validation',\n",
        "  batch_size = BATCH_SIZE\n",
        "  )\n"
      ],
      "metadata": {
        "colab": {
          "base_uri": "https://localhost:8080/"
        },
        "id": "zf-BNCIkOX1G",
        "outputId": "f08021cc-b3a2-4bc3-9e6b-7aec462730f8"
      },
      "execution_count": 36,
      "outputs": [
        {
          "output_type": "stream",
          "name": "stdout",
          "text": [
            "Found 500 files belonging to 2 classes.\n",
            "Using 350 files for training.\n",
            "Found 500 files belonging to 2 classes.\n",
            "Using 150 files for validation.\n"
          ]
        }
      ]
    },
    {
      "cell_type": "code",
      "source": [
        "class_names = np.array(train_dataset.class_names)\n",
        "print(class_names)"
      ],
      "metadata": {
        "id": "qTiF6k67VFwe",
        "colab": {
          "base_uri": "https://localhost:8080/"
        },
        "outputId": "3fe8d9f4-0c25-4f0f-d81b-33879498cc8d"
      },
      "execution_count": 37,
      "outputs": [
        {
          "output_type": "stream",
          "name": "stdout",
          "text": [
            "['Books' 'Pens']\n"
          ]
        }
      ]
    },
    {
      "cell_type": "code",
      "source": [
        "normalization_layer = tf.keras.layers.Rescaling(1./255)\n",
        "train_dataset = train_dataset.map(lambda x, y: (normalization_layer(x), y))\n",
        "val_dataset = val_dataset.map(lambda x, y: (normalization_layer(x), y))\n",
        "\n",
        "AUTOTUNE = tf.data.AUTOTUNE\n",
        "train_dataset = train_dataset.cache().prefetch(buffer_size=AUTOTUNE)\n",
        "val_dataset = val_dataset.cache().prefetch(buffer_size=AUTOTUNE)"
      ],
      "metadata": {
        "id": "dF913fhvJvuC"
      },
      "execution_count": 38,
      "outputs": []
    },
    {
      "cell_type": "code",
      "source": [
        "for image_batch, labels_batch in val_dataset:\n",
        "  print(image_batch.shape)\n",
        "  print(labels_batch.shape)"
      ],
      "metadata": {
        "id": "7U0I7zjfaWMF",
        "outputId": "5c7653f1-55a4-4fae-e55a-43ab73002bf9",
        "colab": {
          "base_uri": "https://localhost:8080/"
        }
      },
      "execution_count": 39,
      "outputs": [
        {
          "output_type": "stream",
          "name": "stdout",
          "text": [
            "(64, 224, 224, 3)\n",
            "(64,)\n",
            "(64, 224, 224, 3)\n",
            "(64,)\n",
            "(22, 224, 224, 3)\n",
            "(22,)\n"
          ]
        }
      ]
    },
    {
      "cell_type": "markdown",
      "source": [
        "# MODEL"
      ],
      "metadata": {
        "id": "4YAc03d5dX4-"
      }
    },
    {
      "cell_type": "code",
      "source": [
        "mobilenet_v2 = \"https://tfhub.dev/google/tf2-preview/mobilenet_v2/feature_vector/4\"\n",
        "feature_extractor_model = mobilenet_v2\n",
        "feature_extractor_layer = hub.KerasLayer(feature_extractor_model, input_shape=(SIZE, SIZE, 3), trainable=False)\n",
        "\n",
        "model = tf.keras.Sequential([\n",
        "  feature_extractor_layer,\n",
        "  tf.keras.layers.Dense(2 , activation='softmax')\n",
        "])\n",
        "model.summary()"
      ],
      "metadata": {
        "id": "JjSjMuRjd0s3",
        "outputId": "1bb256a3-d943-4ea4-9f9f-6fc9c7845749",
        "colab": {
          "base_uri": "https://localhost:8080/"
        }
      },
      "execution_count": 40,
      "outputs": [
        {
          "output_type": "stream",
          "name": "stdout",
          "text": [
            "Model: \"sequential_1\"\n",
            "_________________________________________________________________\n",
            " Layer (type)                Output Shape              Param #   \n",
            "=================================================================\n",
            " keras_layer_1 (KerasLayer)  (None, 1280)              2257984   \n",
            "                                                                 \n",
            " dense_1 (Dense)             (None, 2)                 2562      \n",
            "                                                                 \n",
            "=================================================================\n",
            "Total params: 2,260,546\n",
            "Trainable params: 2,562\n",
            "Non-trainable params: 2,257,984\n",
            "_________________________________________________________________\n"
          ]
        }
      ]
    },
    {
      "cell_type": "code",
      "source": [
        "NUM_EPOCHS = 5\n",
        "LEARNING_RATE = 0.001\n",
        "# LOSS = 'categorical_crossentropy'\n",
        "LOSS = tf.keras.losses.SparseCategoricalCrossentropy(from_logits=True)\n",
        "METRICS = ['accuracy']\n",
        "OPT = tf.keras.optimizers.Adam(learning_rate = LEARNING_RATE, beta_1 = 0.9, beta_2 = 0.999, epsilon = 1e-07, amsgrad = False)\n",
        "\n",
        "\n",
        "log_dir = \"logs/fit/\" + datetime.datetime.now().strftime(\"%Y%m%d-%H%M%S\")\n",
        "tensorboard_callback = tf.keras.callbacks.TensorBoard(log_dir=log_dir, histogram_freq=1) # Enable histogram computation for every epoch.\n",
        "print(log_dir)\n",
        "\n",
        "\n",
        "model.compile(optimizer=OPT, loss=LOSS, metrics=METRICS)\n",
        "history = model.fit(train_dataset, validation_data=val_dataset, epochs=NUM_EPOCHS, callbacks=tensorboard_callback)"
      ],
      "metadata": {
        "id": "P_4HRZYzjZnz"
      },
      "execution_count": null,
      "outputs": []
    },
    {
      "cell_type": "code",
      "source": [
        "%tensorboard --logdir logs/fit"
      ],
      "metadata": {
        "id": "flQD7gCOkAqg"
      },
      "execution_count": null,
      "outputs": []
    },
    {
      "cell_type": "markdown",
      "source": [
        "# Prediction Test"
      ],
      "metadata": {
        "id": "UxYEffssItLj"
      }
    },
    {
      "cell_type": "code",
      "source": [
        "predicted_batch = model.predict(image_batch)\n",
        "predicted_id = tf.math.argmax(predicted_batch, axis=-1)\n",
        "predicted_label_batch = list()\n",
        "for pid in predicted_id:\n",
        "  predicted_label_batch.append(class_names[pid])\n",
        "predicted_label_batch"
      ],
      "metadata": {
        "id": "Ma0b2Miwt8Lw",
        "colab": {
          "base_uri": "https://localhost:8080/"
        },
        "outputId": "48f08f96-e45a-4976-d61f-500df4d81b4a"
      },
      "execution_count": 42,
      "outputs": [
        {
          "output_type": "execute_result",
          "data": {
            "text/plain": [
              "['Pens',\n",
              " 'Pens',\n",
              " 'Books',\n",
              " 'Pens',\n",
              " 'Pens',\n",
              " 'Pens',\n",
              " 'Pens',\n",
              " 'Books',\n",
              " 'Pens',\n",
              " 'Books',\n",
              " 'Pens',\n",
              " 'Books',\n",
              " 'Pens',\n",
              " 'Pens',\n",
              " 'Pens',\n",
              " 'Books',\n",
              " 'Books',\n",
              " 'Pens',\n",
              " 'Books',\n",
              " 'Pens',\n",
              " 'Pens',\n",
              " 'Pens']"
            ]
          },
          "metadata": {},
          "execution_count": 42
        }
      ]
    },
    {
      "cell_type": "code",
      "source": [
        "plt.figure(figsize=(10,9))\n",
        "plt.subplots_adjust(hspace=0.5)\n",
        "\n",
        "for n in range(5):\n",
        "  plt.subplot(6,5,n+1)\n",
        "  plt.imshow(image_batch[n])\n",
        "  plt.title(predicted_label_batch[n].title())\n",
        "  plt.axis('off')\n",
        "_ = plt.suptitle(\"Model predictions\")"
      ],
      "metadata": {
        "colab": {
          "base_uri": "https://localhost:8080/",
          "height": 153
        },
        "id": "Z7NV3DWgI7O-",
        "outputId": "1934f790-e59b-40e5-d79f-9befaf01d44c"
      },
      "execution_count": 43,
      "outputs": [
        {
          "output_type": "display_data",
          "data": {
            "text/plain": [
              "<Figure size 720x648 with 5 Axes>"
            ],
            "image/png": "[encoded data removed]"
          },
          "metadata": {
            "needs_background": "light"
          }
        }
      ]
    },
    {
      "cell_type": "code",
      "source": [
        ""
      ],
      "metadata": {
        "id": "838n2myWKYsa"
      },
      "execution_count": null,
      "outputs": []
    }
  ]
}