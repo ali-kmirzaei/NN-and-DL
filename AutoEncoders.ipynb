{
  "nbformat": 4,
  "nbformat_minor": 0,
  "metadata": {
    "colab": {
      "name": "Untitled6.ipynb",
      "provenance": [],
      "authorship_tag": "ABX9TyPMAXtNQHAHPZnJmhs8BQoJ",
      "include_colab_link": true
    },
    "kernelspec": {
      "name": "python3",
      "display_name": "Python 3"
    },
    "language_info": {
      "name": "python"
    }
  },
  "cells": [
    {
      "cell_type": "markdown",
      "metadata": {
        "id": "view-in-github",
        "colab_type": "text"
      },
      "source": [
        "<a href=\"https://colab.research.google.com/github/ali-kmirzaei/NN-and-DL/blob/main/AutoEncoders.ipynb\" target=\"_parent\"><img src=\"https://colab.research.google.com/assets/colab-badge.svg\" alt=\"Open In Colab\"/></a>"
      ]
    },
    {
      "cell_type": "markdown",
      "source": [
        "# Libs and Drive"
      ],
      "metadata": {
        "id": "4ONFjRJ_S3C7"
      }
    },
    {
      "cell_type": "code",
      "source": [
        "!pip install livelossplot"
      ],
      "metadata": {
        "id": "Esq1dvtnwoyv"
      },
      "execution_count": null,
      "outputs": []
    },
    {
      "cell_type": "code",
      "source": [
        "!apt install tree"
      ],
      "metadata": {
        "id": "CMsMNcrzUua3"
      },
      "execution_count": null,
      "outputs": []
    },
    {
      "cell_type": "code",
      "execution_count": 1,
      "metadata": {
        "id": "UIRpgOxSQIMT"
      },
      "outputs": [],
      "source": [
        "from keras.layers import Dense,Conv2D,MaxPooling2D,UpSampling2D\n",
        "from keras import Input, Model\n",
        "from keras.datasets import mnist\n",
        "import numpy as np\n",
        "import matplotlib.pyplot as plt\n",
        "import os\n",
        "from livelossplot import PlotLossesKeras\n",
        "\n",
        "import cv2 as cv\n",
        "from tensorflow.keras.models import Sequential #FeedForward\n",
        "from tensorflow.keras.layers import Input, Dense, Dropout, Conv2D, MaxPooling2D, Flatten\n",
        "from tensorflow.keras.optimizers import SGD\n",
        "from tensorflow.keras.utils import to_categorical\n",
        "import tensorflow as tf\n",
        "import random\n"
      ]
    },
    {
      "cell_type": "code",
      "source": [
        "# import dataset from google drive\n",
        "from google.colab import drive\n",
        "drive.mount('/content/gdrive')\n",
        "!ln -s /content/gdrive/My\\ Drive/ /mydrive\n",
        "!ls /mydrive"
      ],
      "metadata": {
        "id": "cqWA1qvNTAG4"
      },
      "execution_count": null,
      "outputs": []
    },
    {
      "cell_type": "code",
      "source": [
        "# !rm -rf datasets\n",
        "!unzip /mydrive/lol_dataset.zip -d datasets"
      ],
      "metadata": {
        "id": "MIs7_YbMT7wc"
      },
      "execution_count": null,
      "outputs": []
    },
    {
      "cell_type": "code",
      "source": [
        "!mv datasets/lol_dataset/eval15/ datasets/\n",
        "!mv datasets/lol_dataset/our485/ datasets/\n",
        "!rm -rf datasets/lol_dataset"
      ],
      "metadata": {
        "id": "hgrdtQwDTiW2"
      },
      "execution_count": 7,
      "outputs": []
    },
    {
      "cell_type": "markdown",
      "source": [
        "# Create Dataset"
      ],
      "metadata": {
        "id": "RAhOAqNMUHV4"
      }
    },
    {
      "cell_type": "code",
      "source": [
        "!tree datasets"
      ],
      "metadata": {
        "id": "MzAT8eyvUqSb"
      },
      "execution_count": null,
      "outputs": []
    },
    {
      "cell_type": "code",
      "source": [
        "# Train Dataset\n",
        "SIZE = 150\n",
        "train_inputs = list()\n",
        "train_outputs = list()\n",
        "\n",
        "path = 'datasets/our485/low'\n",
        "for item in os.listdir(path):\n",
        "  if '.png' in item:\n",
        "    img = plt.imread(os.path.join(path, item))\n",
        "    img = cv.resize(img, (SIZE, SIZE))\n",
        "    train_inputs.append(img)\n",
        "\n",
        "path = 'datasets/our485/high'\n",
        "for item in os.listdir(path):\n",
        "  if '.png' in item:\n",
        "    img = plt.imread(os.path.join(path, item))\n",
        "    img = cv.resize(img, (SIZE, SIZE))\n",
        "    train_outputs.append(img)\n",
        "\n",
        "train_inputs = np.array(train_inputs)\n",
        "train_outputs = np.array(train_outputs)\n",
        "\n",
        "print(train_inputs.shape, train_outputs.shape)"
      ],
      "metadata": {
        "id": "PePha8I3USnN",
        "outputId": "b67bfaad-f029-47bf-ddc4-5ea392624bce",
        "colab": {
          "base_uri": "https://localhost:8080/"
        }
      },
      "execution_count": 3,
      "outputs": [
        {
          "output_type": "stream",
          "name": "stdout",
          "text": [
            "(485, 150, 150, 3) (485, 150, 150, 3)\n"
          ]
        }
      ]
    },
    {
      "cell_type": "code",
      "source": [
        "# Test Dataset\n",
        "SIZE = 150\n",
        "test_inputs = list()\n",
        "test_outputs = list()\n",
        "\n",
        "path = 'datasets/eval15/low'\n",
        "for item in os.listdir(path):\n",
        "  if '.png' in item:\n",
        "    img = plt.imread(os.path.join(path, item))\n",
        "    img = cv.resize(img, (SIZE, SIZE))\n",
        "    test_inputs.append(img)\n",
        "\n",
        "path = 'datasets/eval15/high'\n",
        "for item in os.listdir(path):\n",
        "  if '.png' in item:\n",
        "    img = plt.imread(os.path.join(path, item))\n",
        "    img = cv.resize(img, (SIZE, SIZE))\n",
        "    test_outputs.append(img)\n",
        "\n",
        "test_inputs = np.array(test_inputs)\n",
        "test_outputs = np.array(test_outputs)\n",
        "\n",
        "print(test_inputs.shape, test_outputs.shape)"
      ],
      "metadata": {
        "id": "mKzt-Izeiu6s",
        "outputId": "30f6e742-45a2-4864-f736-215cd9ef35b9",
        "colab": {
          "base_uri": "https://localhost:8080/"
        }
      },
      "execution_count": 4,
      "outputs": [
        {
          "output_type": "stream",
          "name": "stdout",
          "text": [
            "(15, 150, 150, 3) (15, 150, 150, 3)\n"
          ]
        }
      ]
    },
    {
      "cell_type": "code",
      "source": [
        "plt.imshow(test_outputs[0])"
      ],
      "metadata": {
        "id": "QzrDN_qCS7LM"
      },
      "execution_count": null,
      "outputs": []
    },
    {
      "cell_type": "code",
      "source": [
        "train_inputs = train_inputs.astype('float32') / 255.\n",
        "train_outputs = train_outputs.astype('float32') / 255.\n",
        "\n",
        "test_inputs = test_inputs.astype('float32') / 255.\n",
        "test_outputs = test_outputs.astype('float32') / 255."
      ],
      "metadata": {
        "id": "cAFiinu1obp-"
      },
      "execution_count": 5,
      "outputs": []
    },
    {
      "cell_type": "code",
      "source": [
        "# tmp = train_inputs.reshape((len(train_inputs), np.prod(train_inputs.shape[1:])))\n",
        "# print(train_inputs.shape)"
      ],
      "metadata": {
        "id": "0Bw9_7RDl1hM",
        "outputId": "d3ddb7b6-a6e9-4e5e-8789-452dd4e549a0",
        "colab": {
          "base_uri": "https://localhost:8080/"
        }
      },
      "execution_count": 80,
      "outputs": [
        {
          "output_type": "stream",
          "name": "stdout",
          "text": [
            "(485, 67500)\n"
          ]
        }
      ]
    },
    {
      "cell_type": "markdown",
      "source": [
        "# **Simple AutoEncoder**"
      ],
      "metadata": {
        "id": "M0jKQeJUTzs_"
      }
    },
    {
      "cell_type": "code",
      "source": [
        "train_inputs_tmp = train_inputs.reshape((len(train_inputs), np.prod(train_inputs.shape[1:])))\n",
        "train_outputs_tmp = train_outputs.reshape((len(train_outputs), np.prod(train_outputs.shape[1:])))\n",
        "\n",
        "test_inputs_tmp  = test_inputs.reshape((len(test_inputs), np.prod(test_inputs.shape[1:])))\n",
        "test_outputs_tmp  = test_outputs.reshape((len(test_outputs), np.prod(test_outputs.shape[1:])))"
      ],
      "metadata": {
        "id": "EkZZ48BYacTD"
      },
      "execution_count": 69,
      "outputs": []
    },
    {
      "cell_type": "code",
      "source": [
        "EPOCHS = 15\n",
        "BATCH_SIZE = 64\n",
        "VALIDATION_SPLIT = 0.3"
      ],
      "metadata": {
        "id": "TzAPcx9Ia-jU"
      },
      "execution_count": 70,
      "outputs": []
    },
    {
      "cell_type": "code",
      "source": [
        "encoding_dim = 15 \n",
        "input_img = Input(shape=(67500,))\n",
        "encoded = Dense(encoding_dim, activation='relu')(input_img)\n",
        "decoded = Dense(67500, activation='sigmoid')(encoded)\n",
        "autoencoder = Model(input_img, decoded)\n",
        "encoder = Model(input_img, encoded)\n",
        "encoded_input = Input(shape=(encoding_dim,))\n",
        "decoder_layer = autoencoder.layers[-1]\n",
        "decoder = Model(encoded_input, decoder_layer(encoded_input))\n",
        "autoencoder.compile(optimizer='adam', loss='binary_crossentropy')\n",
        "autoencoder.fit(train_inputs_tmp, train_outputs_tmp, epochs=EPOCHS, batch_size=BATCH_SIZE, validation_split=VALIDATION_SPLIT)\n",
        "\n",
        "# RESULT IS: loss: 0.4512 - val_loss: 0.4280"
      ],
      "metadata": {
        "id": "9i-ZMicQRiIY"
      },
      "execution_count": null,
      "outputs": []
    },
    {
      "cell_type": "code",
      "source": [
        "encoded_img = encoder.predict(test_inputs_tmp)\n",
        "decoded_img = decoder.predict(encoded_img)\n",
        "plt.figure(figsize=(20, 4))\n",
        "for i in range(5):\n",
        "    # Display original\n",
        "    ax = plt.subplot(2, 5, i + 1)\n",
        "    plt.imshow(test_inputs[i])\n",
        "    plt.gray()\n",
        "    ax.get_xaxis().set_visible(False)\n",
        "    ax.get_yaxis().set_visible(False)\n",
        "    # Display reconstruction\n",
        "    ax = plt.subplot(2, 5, i + 1 + 5)\n",
        "    plt.imshow(decoded_img[i].reshape(SIZE, SIZE))\n",
        "    plt.gray()\n",
        "    ax.get_xaxis().set_visible(False)\n",
        "    ax.get_yaxis().set_visible(False)\n",
        "plt.show()"
      ],
      "metadata": {
        "id": "KF__dxWzSJc3"
      },
      "execution_count": null,
      "outputs": []
    },
    {
      "cell_type": "markdown",
      "source": [
        "# Deep CNN AE"
      ],
      "metadata": {
        "id": "Sw66P5wImuiw"
      }
    },
    {
      "cell_type": "code",
      "source": [
        "train_inputs.shape"
      ],
      "metadata": {
        "id": "y5N82ftboEMS",
        "outputId": "bb753948-0d53-4d9c-b940-59bcdb26782e",
        "colab": {
          "base_uri": "https://localhost:8080/"
        }
      },
      "execution_count": 6,
      "outputs": [
        {
          "output_type": "execute_result",
          "data": {
            "text/plain": [
              "(485, 150, 150, 3)"
            ]
          },
          "metadata": {},
          "execution_count": 6
        }
      ]
    },
    {
      "cell_type": "code",
      "source": [
        "EPOCHS = 15\n",
        "BATCH_SIZE = 64\n",
        "VALIDATION_SPLIT = 0.3\n",
        "\n",
        "model = Sequential()\n",
        "# encoder network\n",
        "model.add(Input((150,150,3)))\n",
        "model.add(Conv2D(16, 3, activation= 'relu', padding='same'))\n",
        "model.add(MaxPooling2D(2, padding= 'same'))\n",
        "# model.add(Conv2D(8, 3, activation= 'relu', padding='same'))\n",
        "# model.add(MaxPooling2D(2, padding= 'same'))\n",
        "# # decoder network\n",
        "# model.add(Conv2D(8, 3, activation= 'relu', padding='same'))\n",
        "# model.add(UpSampling2D(2))\n",
        "model.add(Conv2D(16, 3, activation= 'relu', padding='same'))\n",
        "model.add(UpSampling2D(2))\n",
        "model.add(Conv2D(3, kernel_size=(3, 3), activation='sigmoid', padding= 'same')) # output layer\n",
        "\n",
        "model.compile(optimizer= 'adam', loss = 'binary_crossentropy')\n",
        "# model.summary()\n",
        "model.fit(train_inputs, train_outputs, epochs=EPOCHS, batch_size=BATCH_SIZE, validation_split=VALIDATION_SPLIT, callbacks=[PlotLossesKeras()], verbose=0)\n"
      ],
      "metadata": {
        "id": "HwvUKiUsm1YD"
      },
      "execution_count": null,
      "outputs": []
    },
    {
      "cell_type": "markdown",
      "source": [
        "# PSNRs"
      ],
      "metadata": {
        "id": "HY9-uZbU1fcP"
      }
    },
    {
      "cell_type": "code",
      "source": [
        "psnrs = tf.image.psnr(train_inputs, train_outputs, max_val=1.0)\n",
        "print(np.mean(psnrs))"
      ],
      "metadata": {
        "id": "TqxjLG5n145m",
        "outputId": "6ec0a095-074f-4bd2-8650-91b58990f867",
        "colab": {
          "base_uri": "https://localhost:8080/"
        }
      },
      "execution_count": 25,
      "outputs": [
        {
          "output_type": "stream",
          "name": "stdout",
          "text": [
            "55.893166\n"
          ]
        }
      ]
    },
    {
      "cell_type": "code",
      "source": [
        "preds = model.predict(train_inputs)\n",
        "psnrs = tf.image.psnr(train_inputs, preds, max_val=1.0)\n",
        "print(np.mean(psnrs))"
      ],
      "metadata": {
        "id": "HgOZqy941_8-",
        "outputId": "bbb626eb-5a06-4fbc-bd5c-c1eca82253c0",
        "colab": {
          "base_uri": "https://localhost:8080/"
        }
      },
      "execution_count": 26,
      "outputs": [
        {
          "output_type": "stream",
          "name": "stdout",
          "text": [
            "32.68006\n"
          ]
        }
      ]
    },
    {
      "cell_type": "code",
      "source": [
        "# index = 3\n",
        "# img1 = train_inputs[index]\n",
        "# img2 = train_outputs[index]\n",
        "psnrs = tf.image.psnr(test_inputs, test_outputs, max_val=1.0)\n",
        "print(np.mean(psnrs))"
      ],
      "metadata": {
        "id": "Za2chzAkylh6",
        "outputId": "5cc0d7ac-7d8e-4c0f-d77f-1884ffaf926c",
        "colab": {
          "base_uri": "https://localhost:8080/"
        }
      },
      "execution_count": 22,
      "outputs": [
        {
          "output_type": "stream",
          "name": "stdout",
          "text": [
            "55.928005\n"
          ]
        }
      ]
    },
    {
      "cell_type": "code",
      "source": [
        "preds = model.predict(test_inputs)\n",
        "# preds.shape\n",
        "\n",
        "psnrs = tf.image.psnr(preds, test_outputs, max_val=1.0)\n",
        "print(np.mean(psnrs))\n",
        "# print(psnrs)"
      ],
      "metadata": {
        "id": "fBkZH02MnAxG",
        "outputId": "6f009178-6a95-4b1c-a91d-994601b98927",
        "colab": {
          "base_uri": "https://localhost:8080/"
        }
      },
      "execution_count": 24,
      "outputs": [
        {
          "output_type": "stream",
          "name": "stdout",
          "text": [
            "33.04549\n"
          ]
        }
      ]
    },
    {
      "cell_type": "code",
      "source": [
        ""
      ],
      "metadata": {
        "id": "xQnx1qda00XI"
      },
      "execution_count": null,
      "outputs": []
    }
  ]
}