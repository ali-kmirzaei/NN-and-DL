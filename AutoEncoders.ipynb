{
  "nbformat": 4,
  "nbformat_minor": 0,
  "metadata": {
    "colab": {
      "name": "Untitled6.ipynb",
      "provenance": [],
      "authorship_tag": "ABX9TyN3bT/eAkn+L7Zh0ueM2sQo",
      "include_colab_link": true
    },
    "kernelspec": {
      "name": "python3",
      "display_name": "Python 3"
    },
    "language_info": {
      "name": "python"
    }
  },
  "cells": [
    {
      "cell_type": "markdown",
      "metadata": {
        "id": "view-in-github",
        "colab_type": "text"
      },
      "source": [
        "<a href=\"https://colab.research.google.com/github/ali-kmirzaei/NN-and-DL/blob/main/AutoEncoders.ipynb\" target=\"_parent\"><img src=\"https://colab.research.google.com/assets/colab-badge.svg\" alt=\"Open In Colab\"/></a>"
      ]
    },
    {
      "cell_type": "code",
      "execution_count": 2,
      "metadata": {
        "id": "UIRpgOxSQIMT"
      },
      "outputs": [],
      "source": [
        "from keras.layers import Dense,Conv2D,MaxPooling2D,UpSampling2D\n",
        "from keras import Input, Model\n",
        "from keras.datasets import mnist\n",
        "import numpy as np\n",
        "import matplotlib.pyplot as plt"
      ]
    },
    {
      "cell_type": "code",
      "source": [
        "(x_train, y_train), (x_test, y_test) = mnist.load_data()\n",
        "x_train = x_train.astype('float32') / 255.\n",
        "x_test = x_test.astype('float32') / 255.\n",
        "x_train = x_train.reshape((len(x_train), np.prod(x_train.shape[1:])))\n",
        "x_test = x_test.reshape((len(x_test), np.prod(x_test.shape[1:])))\n",
        "print(x_train.shape)\n",
        "print(x_test.shape)"
      ],
      "metadata": {
        "id": "hRaXNBhxS2kc"
      },
      "execution_count": null,
      "outputs": []
    },
    {
      "cell_type": "code",
      "source": [
        "plt.imshow(x_train[0].reshape(28,28))"
      ],
      "metadata": {
        "id": "QzrDN_qCS7LM"
      },
      "execution_count": null,
      "outputs": []
    },
    {
      "cell_type": "markdown",
      "source": [
        "# **Simple AutoEncoder**"
      ],
      "metadata": {
        "id": "M0jKQeJUTzs_"
      }
    },
    {
      "cell_type": "code",
      "source": [
        "encoding_dim = 15 \n",
        "input_img = Input(shape=(784,))\n",
        "# encoded representation of input\n",
        "encoded = Dense(encoding_dim, activation='relu')(input_img)\n",
        "# decoded representation of code \n",
        "decoded = Dense(784, activation='sigmoid')(encoded)\n",
        "# Model which take input image and shows decoded images\n",
        "autoencoder = Model(input_img, decoded)\n",
        "# This model shows encoded images\n",
        "encoder = Model(input_img, encoded)\n",
        "# Creating a decoder model\n",
        "encoded_input = Input(shape=(encoding_dim,))\n",
        "# last layer of the autoencoder model\n",
        "decoder_layer = autoencoder.layers[-1]\n",
        "# decoder model\n",
        "decoder = Model(encoded_input, decoder_layer(encoded_input))\n",
        "# compile and fit the model\n",
        "autoencoder.compile(optimizer='adam', loss='binary_crossentropy')\n",
        "autoencoder.fit(x_train, x_train, epochs=5, batch_size=256, validation_data=(x_test, x_test))"
      ],
      "metadata": {
        "colab": {
          "base_uri": "https://localhost:8080/"
        },
        "id": "9i-ZMicQRiIY",
        "outputId": "ba7dfc24-0681-459f-8d8f-ae6f38555804"
      },
      "execution_count": 7,
      "outputs": [
        {
          "output_type": "stream",
          "name": "stdout",
          "text": [
            "Epoch 1/5\n",
            "235/235 [==============================] - 3s 10ms/step - loss: 0.3111 - val_loss: 0.2293\n",
            "Epoch 2/5\n",
            "235/235 [==============================] - 2s 10ms/step - loss: 0.2037 - val_loss: 0.1834\n",
            "Epoch 3/5\n",
            "235/235 [==============================] - 2s 10ms/step - loss: 0.1747 - val_loss: 0.1649\n",
            "Epoch 4/5\n",
            "235/235 [==============================] - 2s 10ms/step - loss: 0.1605 - val_loss: 0.1545\n",
            "Epoch 5/5\n",
            "235/235 [==============================] - 2s 10ms/step - loss: 0.1525 - val_loss: 0.1487\n"
          ]
        },
        {
          "output_type": "execute_result",
          "data": {
            "text/plain": [
              "<keras.callbacks.History at 0x7f0495fad850>"
            ]
          },
          "metadata": {},
          "execution_count": 7
        }
      ]
    },
    {
      "cell_type": "code",
      "source": [
        "encoded_img = encoder.predict(x_test)\n",
        "decoded_img = decoder.predict(encoded_img)\n",
        "plt.figure(figsize=(20, 4))\n",
        "for i in range(5):\n",
        "    # Display original\n",
        "    ax = plt.subplot(2, 5, i + 1)\n",
        "    plt.imshow(x_test[i].reshape(28, 28))\n",
        "    plt.gray()\n",
        "    ax.get_xaxis().set_visible(False)\n",
        "    ax.get_yaxis().set_visible(False)\n",
        "    # Display reconstruction\n",
        "    ax = plt.subplot(2, 5, i + 1 + 5)\n",
        "    plt.imshow(decoded_img[i].reshape(28, 28))\n",
        "    plt.gray()\n",
        "    ax.get_xaxis().set_visible(False)\n",
        "    ax.get_yaxis().set_visible(False)\n",
        "plt.show()"
      ],
      "metadata": {
        "colab": {
          "base_uri": "https://localhost:8080/",
          "height": 252
        },
        "id": "KF__dxWzSJc3",
        "outputId": "3bad6340-4897-465a-805e-7a918aae9264"
      },
      "execution_count": 8,
      "outputs": [
        {
          "output_type": "display_data",
          "data": {
            "text/plain": [
              "<Figure size 1440x288 with 10 Axes>"
            ],
            "image/png": "[encoded data removed]"
          },
          "metadata": {
            "needs_background": "light"
          }
        }
      ]
    },
    {
      "cell_type": "code",
      "source": [
        ""
      ],
      "metadata": {
        "id": "q7QbqHhOTs5c"
      },
      "execution_count": null,
      "outputs": []
    }
  ]
}