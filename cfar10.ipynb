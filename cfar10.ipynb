{
  "nbformat": 4,
  "nbformat_minor": 0,
  "metadata": {
    "colab": {
      "name": "Untitled3.ipynb",
      "provenance": [],
      "collapsed_sections": [],
      "include_colab_link": true
    },
    "kernelspec": {
      "name": "python3",
      "display_name": "Python 3"
    },
    "language_info": {
      "name": "python"
    },
    "accelerator": "GPU"
  },
  "cells": [
    {
      "cell_type": "markdown",
      "metadata": {
        "id": "view-in-github",
        "colab_type": "text"
      },
      "source": [
        "<a href=\"https://colab.research.google.com/github/ali-kmirzaei/NN-and-DL/blob/main/cfar10.ipynb\" target=\"_parent\"><img src=\"https://colab.research.google.com/assets/colab-badge.svg\" alt=\"Open In Colab\"/></a>"
      ]
    },
    {
      "cell_type": "code",
      "source": [
        "!pip install livelossplot"
      ],
      "metadata": {
        "id": "Kb63lZEGPFZ2"
      },
      "execution_count": null,
      "outputs": []
    },
    {
      "cell_type": "code",
      "execution_count": 1,
      "metadata": {
        "id": "8EUqvSvjObCk"
      },
      "outputs": [],
      "source": [
        "import tensorflow as tf\n",
        "from tensorflow import keras\n",
        "from matplotlib import pyplot as plt\n",
        "from tensorflow.keras.models import Sequential #FeedForward\n",
        "from tensorflow.keras.layers import Input, Dense, Dropout, Conv2D, MaxPooling2D, Flatten, BatchNormalization\n",
        "from tensorflow.keras.optimizers import SGD, Adam\n",
        "from tensorflow.keras.utils import to_categorical\n",
        "from livelossplot import PlotLossesKeras"
      ]
    },
    {
      "cell_type": "code",
      "source": [
        "# load dataset\n",
        "(x_train, y_train), (x_test, y_test) = tf.keras.datasets.cifar10.load_data()\n",
        "\n",
        "x_train = (x_train.astype(float)-128) / 127.\n",
        "x_test  = (x_test.astype(float)-128) / 127.\n",
        "\n",
        "# Convert class vectors to binary class matrices.\n",
        "num_classes = 10\n",
        "y_train = tf.keras.utils.to_categorical(y_train, num_classes)\n",
        "y_test = tf.keras.utils.to_categorical(y_test, num_classes)"
      ],
      "metadata": {
        "id": "DwVXoq1DOoik"
      },
      "execution_count": null,
      "outputs": []
    },
    {
      "cell_type": "code",
      "source": [
        "x_train.shape"
      ],
      "metadata": {
        "id": "a5vjozdIj2Bg",
        "outputId": "b89148b8-4dc4-4198-fc67-cdac0f8f5b43",
        "colab": {
          "base_uri": "https://localhost:8080/"
        }
      },
      "execution_count": 3,
      "outputs": [
        {
          "output_type": "execute_result",
          "data": {
            "text/plain": [
              "(50000, 32, 32, 3)"
            ]
          },
          "metadata": {},
          "execution_count": 3
        }
      ]
    },
    {
      "cell_type": "code",
      "source": [
        "y_train.shape"
      ],
      "metadata": {
        "id": "zQzm6LN4j55M",
        "outputId": "7d700c8f-7b12-4a14-c278-2ba04c087276",
        "colab": {
          "base_uri": "https://localhost:8080/"
        }
      },
      "execution_count": 4,
      "outputs": [
        {
          "output_type": "execute_result",
          "data": {
            "text/plain": [
              "(50000, 10)"
            ]
          },
          "metadata": {},
          "execution_count": 4
        }
      ]
    },
    {
      "cell_type": "code",
      "source": [
        "def grad_decay(LEARNING_RATE, DECAY_RATE, EPOCHES):\n",
        "    return ( 1 / ( 1 + DECAY_RATE * EPOCHES ) ) * LEARNING_RATE"
      ],
      "metadata": {
        "id": "4a5wLYykJ3OM"
      },
      "execution_count": 5,
      "outputs": []
    },
    {
      "cell_type": "code",
      "source": [
        "def add_layer(model, activation_function, batch_normalization, num_of_neurons):\n",
        "  model.add(Dense(num_of_neurons, activation=activation_function))\n",
        "  if batch_normalization : model.add(BatchNormalization())"
      ],
      "metadata": {
        "id": "26A_a75ioLW4"
      },
      "execution_count": 6,
      "outputs": []
    },
    {
      "cell_type": "code",
      "source": [
        "# Model:\n",
        "def main(activation_function, batch_normalization, num_of_layers):\n",
        "  EPOCHES = 20\n",
        "  LEARNING_RATE = 0.01\n",
        "  BATCH_SIZE = 64\n",
        "  METRICS = ['accuracy']\n",
        "  LOSS = 'categorical_crossentropy'\n",
        "  VALIDATION_DATA = (x_test, y_test)\n",
        "\n",
        "  model = Sequential()\n",
        "  model.add(Input(shape=x_test[0].shape))\n",
        "  model.add(Flatten())\n",
        "\n",
        "  if num_of_layers == 15:\n",
        "    lrange = 5\n",
        "    num_of_neurons = 256\n",
        "  else:\n",
        "    lrange = 2\n",
        "    num_of_neurons = 32\n",
        "\n",
        "  for i in range(lrange):\n",
        "    add_layer(model, activation_function, batch_normalization, num_of_neurons)\n",
        "    add_layer(model, activation_function, batch_normalization, num_of_neurons)\n",
        "    add_layer(model, activation_function, batch_normalization, num_of_neurons)\n",
        "    num_of_neurons = int(num_of_neurons / 2)\n",
        "\n",
        "\n",
        "  model.add(Dense(10 , activation=activation_function))\n",
        "\n",
        "  # LEARNING_RATE = 0.9\n",
        "  # DECAY_RATE=0.9\n",
        "  # LEARNING_RATE = grad_decay(LEARNING_RATE, DECAY_RATE, EPOCHES)\n",
        "\n",
        "  # opt = SGD(learning_rate = LEARNING_RATE)\n",
        "  opt = Adam(\n",
        "    learning_rate=LEARNING_RATE,\n",
        "    beta_1=0.9,\n",
        "    beta_2=0.999,\n",
        "    epsilon=1e-07,\n",
        "    amsgrad=False,\n",
        "    name='Adam'\n",
        "  )\n",
        "  model.compile(optimizer=opt, loss=LOSS, metrics=METRICS)\n",
        "  history = model.fit(x_train, y_train, epochs=EPOCHES, batch_size=BATCH_SIZE, validation_data=VALIDATION_DATA, callbacks=[PlotLossesKeras()], verbose=0)"
      ],
      "metadata": {
        "id": "r7PROb4RO0KH"
      },
      "execution_count": 13,
      "outputs": []
    },
    {
      "cell_type": "code",
      "source": [
        "test_cases = [ ('sigmoid', False, 6), ('tanh', False, 6), ('sigmoid', True, 6), ('tanh', False, 6), ('sigmoid', False, 15), ('sigmoid', True, 15) ]\n",
        "# test_cases = [ ('sigmoid', False, 6), ('tanh', False, 15) ]\n",
        "num = len(test_cases)-1\n",
        "for i in range(num):\n",
        "  main(test_cases[i][0], test_cases[i][1], test_cases[i][2])\n",
        "  print('------------------------------------------------------------------------------------------------------------------')\n",
        "  print('next test case is: ', test_cases[i+1])\n",
        "  if int(input(\"select (0:stop, 1:resume)\")) == 0:\n",
        "    break\n"
      ],
      "metadata": {
        "id": "HlZZh_xLQDKl"
      },
      "execution_count": null,
      "outputs": []
    },
    {
      "cell_type": "code",
      "source": [
        "main('relu', False, 6)"
      ],
      "metadata": {
        "id": "XFS_k0DjjXAl"
      },
      "execution_count": null,
      "outputs": []
    },
    {
      "cell_type": "code",
      "source": [
        ""
      ],
      "metadata": {
        "id": "L3Ry9arYKh9r"
      },
      "execution_count": null,
      "outputs": []
    }
  ]
}