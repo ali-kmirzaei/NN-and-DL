{
  "nbformat": 4,
  "nbformat_minor": 0,
  "metadata": {
    "colab": {
      "name": "Untitled3.ipynb",
      "provenance": [],
      "collapsed_sections": [],
      "authorship_tag": "ABX9TyN5+82MIq1/Fp+XJYIOR4YJ",
      "include_colab_link": true
    },
    "kernelspec": {
      "name": "python3",
      "display_name": "Python 3"
    },
    "language_info": {
      "name": "python"
    }
  },
  "cells": [
    {
      "cell_type": "markdown",
      "metadata": {
        "id": "view-in-github",
        "colab_type": "text"
      },
      "source": [
        "<a href=\"https://colab.research.google.com/github/ali-kmirzaei/NN-and-DL/blob/main/cfar10.ipynb\" target=\"_parent\"><img src=\"https://colab.research.google.com/assets/colab-badge.svg\" alt=\"Open In Colab\"/></a>"
      ]
    },
    {
      "cell_type": "code",
      "source": [
        "!pip install livelossplot"
      ],
      "metadata": {
        "id": "Kb63lZEGPFZ2"
      },
      "execution_count": null,
      "outputs": []
    },
    {
      "cell_type": "code",
      "execution_count": 1,
      "metadata": {
        "id": "8EUqvSvjObCk"
      },
      "outputs": [],
      "source": [
        "import tensorflow as tf\n",
        "from tensorflow import keras\n",
        "from matplotlib import pyplot as plt\n",
        "from tensorflow.keras.models import Sequential #FeedForward\n",
        "from tensorflow.keras.layers import Input, Dense, Dropout, Conv2D, MaxPooling2D, Flatten\n",
        "from tensorflow.keras.optimizers import SGD, Adam\n",
        "from tensorflow.keras.utils import to_categorical\n",
        "from livelossplot import PlotLossesKeras"
      ]
    },
    {
      "cell_type": "code",
      "source": [
        "# load dataset\n",
        "(x_train, y_train), (x_test, y_test) = tf.keras.datasets.cifar10.load_data()\n",
        "\n",
        "x_train = (x_train.astype(float)-128) / 127.\n",
        "x_test  = (x_test.astype(float)-128) / 127.\n",
        "\n",
        "# Convert class vectors to binary class matrices.\n",
        "num_classes = 10\n",
        "y_train = tf.keras.utils.to_categorical(y_train, num_classes)\n",
        "y_test = tf.keras.utils.to_categorical(y_test, num_classes)"
      ],
      "metadata": {
        "id": "DwVXoq1DOoik"
      },
      "execution_count": 2,
      "outputs": []
    },
    {
      "cell_type": "code",
      "source": [
        "# Model:\n",
        "def model(activation_function, batch_normalization, num_of_layers):\n",
        "  EPOCHES = 5\n",
        "  LEARNING_RATE = 0.01\n",
        "  BATCH_SIZE = 100\n",
        "  METRICS = ['accuracy']\n",
        "  LOSS = 'categorical_crossentropy'\n",
        "  VALIDATION_DATA = (x_test, y_test)\n",
        "\n",
        "  model = Sequential()\n",
        "  model.add(Input(shape=x_test[0].shape))\n",
        "  model.add(Flatten())\n",
        "\n",
        "  model.add(Dense(128, activation=activation_function))\n",
        "  model.add(Dense(64, activation=activation_function))\n",
        "  model.add(Dense(32, activation=activation_function))\n",
        "  model.add(Dense(16, activation=activation_function))\n",
        "  if num_of_layers == 15:\n",
        "    \n",
        "  model.add(Dense(10 , activation=activation_function))\n",
        "\n",
        "  # model.summary()\n",
        "\n",
        "  opt = SGD(learning_rate = LEARNING_RATE)\n",
        "  model.compile(optimizer=opt, loss=LOSS, metrics=METRICS)\n",
        "  history = model.fit(x_train, y_train, epochs=EPOCHES, batch_size=BATCH_SIZE, validation_data=VALIDATION_DATA, callbacks=[PlotLossesKeras()], verbose=0)"
      ],
      "metadata": {
        "id": "r7PROb4RO0KH"
      },
      "execution_count": 8,
      "outputs": []
    },
    {
      "cell_type": "code",
      "source": [
        "# test_cases = [ ('sigmoid', False, 5), ('tanh', False, 5), ('sigmoid', True, 5), ('tanh', False, 5), ('sigmoid', False, 15), ('sigmoid', True, 5) ]\n",
        "test_cases = [ ('sigmoid', False, 5), ('tanh', False, 5) ]\n",
        "for test_case in test_cases:\n",
        "  model(test_case[0], test_case[1], test_case[2])"
      ],
      "metadata": {
        "id": "HlZZh_xLQDKl"
      },
      "execution_count": null,
      "outputs": []
    }
  ]
}