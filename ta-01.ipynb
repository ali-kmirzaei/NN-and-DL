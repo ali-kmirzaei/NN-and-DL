{
  "nbformat": 4,
  "nbformat_minor": 0,
  "metadata": {
    "colab": {
      "name": "Untitled1.ipynb",
      "provenance": [],
      "collapsed_sections": [],
      "authorship_tag": "ABX9TyM+X1PcYJmM3kQTJ0Ul5p3w",
      "include_colab_link": true
    },
    "kernelspec": {
      "name": "python3",
      "display_name": "Python 3"
    },
    "language_info": {
      "name": "python"
    },
    "accelerator": "GPU"
  },
  "cells": [
    {
      "cell_type": "markdown",
      "metadata": {
        "id": "view-in-github",
        "colab_type": "text"
      },
      "source": [
        "<a href=\"https://colab.research.google.com/github/ali-kmirzaei/NeuralNetworks/blob/main/ta-01.ipynb\" target=\"_parent\"><img src=\"https://colab.research.google.com/assets/colab-badge.svg\" alt=\"Open In Colab\"/></a>"
      ]
    },
    {
      "cell_type": "code",
      "execution_count": null,
      "metadata": {
        "id": "L6LvG9xozdJT"
      },
      "outputs": [],
      "source": [
        "inputs = [ 1.0, 3.0, 2.5 ]\n",
        "weights = [ 0.2, -0.5, 2.0 ]\n",
        "bias = 2.0\n",
        "\n",
        "output = ( inputs[0]*weights[0] + inputs[1]*weights[1] + inputs[2]*weights[2] + bias )\n",
        "print(output)\n"
      ]
    },
    {
      "cell_type": "code",
      "source": [
        "inputs = [ 1.0, 2.0, 3.0, 2.5 ]\n",
        "weights1 = [ 0.2, 0.8, -0.5, 1.0 ]\n",
        "weights2 = [ 0.5, -0.9, 0.25, -0.5 ]\n",
        "weights3 = [ -1.5, -0.35, 0.18, 0.75 ]\n",
        "bias1 = 2.0\n",
        "bias2 = 3.0\n",
        "bias3 = 4.0\n",
        "\n",
        "outputs = [ inputs[0]*weights1[0] + \n",
        "            inputs[1]*weights1[1] + \n",
        "            inputs[2]*weights1[2] + \n",
        "            inputs[3]*weights1[3] + \n",
        "            bias1,\n",
        "            inputs[0]*weights2[0] + \n",
        "            inputs[1]*weights2[1] + \n",
        "            inputs[2]*weights2[2] + \n",
        "            inputs[3]*weights2[3] + \n",
        "            bias2,\n",
        "            inputs[0]*weights3[0] + \n",
        "            inputs[1]*weights3[1] + \n",
        "            inputs[2]*weights3[2] + \n",
        "            inputs[3]*weights3[3] + \n",
        "            bias3,]\n",
        "print(outputs)"
      ],
      "metadata": {
        "id": "meMPIko43GyM"
      },
      "execution_count": null,
      "outputs": []
    },
    {
      "cell_type": "code",
      "source": [
        "inputs = [ 1.0, 2.0, 3.0, 2.5 ]\n",
        "\n",
        "weights1 = [ 0.2, 0.8, -0.5, 1.0 ]\n",
        "weights2 = [ 0.5, -0.9, 0.25, -0.5 ]\n",
        "weights3 = [ -1.5, -0.35, 0.18, 0.75 ]\n",
        "weights = [weights1, weights2, weights3]\n",
        "\n",
        "bias = [2.0, 3.0, 4.0]\n",
        "layer_outputs = list()\n",
        "\n",
        "for neuron_weights, neuron_bias in zip(weights, bias):\n",
        "  neuron_output = 0\n",
        "  for n_input, weight in zip(inputs, neuron_weights) :\n",
        "    neuron_output += n_input*weight\n",
        "  neuron_output += neuron_bias\n",
        "  layer_outputs.append(neuron_output)\n",
        "print(layer_outputs)"
      ],
      "metadata": {
        "id": "3etbr1f248OC"
      },
      "execution_count": null,
      "outputs": []
    },
    {
      "cell_type": "code",
      "source": [
        "import numpy as np\n",
        "\n",
        "inputs = [ 1.0, 3.0, 2.5 ]\n",
        "weights = [ 0.2, -0.5, 2.0 ]\n",
        "bias = 2.0\n",
        "\n",
        "output = np.dot(weights, inputs)+bias\n",
        "print(output)"
      ],
      "metadata": {
        "id": "qdmjp0h0808f"
      },
      "execution_count": null,
      "outputs": []
    },
    {
      "cell_type": "code",
      "source": [
        "inputs = [ 1.0, 2.0, 3.0, 2.5 ]\n",
        "\n",
        "weights1 = [ 0.2, 0.8, -0.5, 1.0 ]\n",
        "weights2 = [ 0.5, -0.9, 0.25, -0.5 ]\n",
        "weights3 = [ -1.5, -0.35, 0.18, 0.75 ]\n",
        "weights = [weights1, weights2, weights3]\n",
        "\n",
        "bias = [2.0, 3.0, 4.0]\n",
        "\n",
        "layer_outputs = np.dot(weights, inputs)+bias\n",
        "print(layer_outputs)"
      ],
      "metadata": {
        "id": "T0fXFSj_9zOA"
      },
      "execution_count": null,
      "outputs": []
    }
  ]
}