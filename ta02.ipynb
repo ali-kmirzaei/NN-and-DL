{
  "nbformat": 4,
  "nbformat_minor": 0,
  "metadata": {
    "colab": {
      "name": "Untitled6.ipynb",
      "provenance": [],
      "collapsed_sections": [],
      "authorship_tag": "ABX9TyPUcQThvite/EbTdWfwDzix",
      "include_colab_link": true
    },
    "kernelspec": {
      "name": "python3",
      "display_name": "Python 3"
    },
    "language_info": {
      "name": "python"
    }
  },
  "cells": [
    {
      "cell_type": "markdown",
      "metadata": {
        "id": "view-in-github",
        "colab_type": "text"
      },
      "source": [
        "<a href=\"https://colab.research.google.com/github/ali-kmirzaei/NeuralNetworks/blob/main/ta02.ipynb\" target=\"_parent\"><img src=\"https://colab.research.google.com/assets/colab-badge.svg\" alt=\"Open In Colab\"/></a>"
      ]
    },
    {
      "cell_type": "code",
      "execution_count": 8,
      "metadata": {
        "colab": {
          "base_uri": "https://localhost:8080/"
        },
        "id": "4sxpXzC72C45",
        "outputId": "15779813-739d-4d87-d379-092f1621e0ed"
      },
      "outputs": [
        {
          "output_type": "stream",
          "name": "stdout",
          "text": [
            "[[-9.8    1.6    2.     5.6  ]\n",
            " [-3.05  -0.15   2.875  7.1  ]\n",
            " [ 3.87   3.29   3.825  2.36 ]\n",
            " [ 8.25   5.75   7.125 12.5  ]]\n"
          ]
        }
      ],
      "source": [
        "import numpy as np\n",
        "# give some samples\n",
        "inputs = [\n",
        "          [ 1.0, 3.0, 2.5, 8.0 ],\n",
        "          [ 3.0, 5.0, 2.5, 4.0 ],\n",
        "          [ 9.0, 3.0, 2.5, 2.0 ]\n",
        "]\n",
        "\n",
        "weights1 = [ 0.2, 0.8, -0.5, 1.0 ]\n",
        "weights2 = [ 0.5, -0.9, 0.25, -0.5 ]\n",
        "weights3 = [ -1.5, -0.35, 0.18, 0.75 ]\n",
        "weights = [weights1, weights2, weights3]\n",
        "weights = np.array(weights).T\n",
        "\n",
        "biases = [2, 3, 4, 5]\n",
        "\n",
        "layer_outputs = np.dot(weights, inputs)+biases\n",
        "print(layer_outputs)"
      ]
    },
    {
      "cell_type": "code",
      "source": [
        "# use multi layers\n",
        "# L1\n",
        "inputs1 = [\n",
        "          [ 1.0, 3.0, 2.5, 8.0 ],\n",
        "          [ 3.0, 5.0, 2.5, 4.0 ],\n",
        "          [ 9.0, 3.0, 2.5, 2.0 ]\n",
        "]\n",
        "\n",
        "weights1 = [ 0.2, 0.8, -0.5, 1.0 ]\n",
        "weights2 = [ 0.5, -0.9, 0.25, -0.5 ]\n",
        "weights3 = [ -1.5, -0.35, 0.18, 0.75 ]\n",
        "weights = [weights1, weights2, weights3]\n",
        "weights1 = np.array(weights).T\n",
        "\n",
        "biases1 = [2, 3, 4, 5]\n",
        "\n",
        "layer_outputs1 = np.dot(weights1, inputs1)+biases1\n",
        "\n",
        "# L2\n",
        "weights1 = [ 0.2, 0.8, -0.5, 1.0 ]\n",
        "weights2 = [ 0.5, -0.9, 0.25, -0.5 ]\n",
        "weights3 = [ -1.5, -0.35, 0.18, 0.75 ]\n",
        "weights = [weights1, weights2, weights3]\n",
        "weights2 = np.array(weights)\n",
        "\n",
        "biases2 = [3, 7, 8, 5]\n",
        "\n",
        "layer_outputs2 = np.dot(weights2, layer_outputs1)+biases2\n",
        "\n",
        "print(layer_outputs1)\n",
        "print(layer_outputs2)"
      ],
      "metadata": {
        "colab": {
          "base_uri": "https://localhost:8080/"
        },
        "id": "1mfjVtHD4kYp",
        "outputId": "ef75823e-2fec-4311-8b9a-6d63da6d41e8"
      },
      "execution_count": 18,
      "outputs": [
        {
          "output_type": "stream",
          "name": "stdout",
          "text": [
            "[[-9.8    1.6    2.     5.6  ]\n",
            " [-3.05  -0.15   2.875  7.1  ]\n",
            " [ 3.87   3.29   3.825  2.36 ]\n",
            " [ 8.25   5.75   7.125 12.5  ]]\n",
            "[[ 4.915   11.305   15.9125  23.12   ]\n",
            " [-2.3125   5.8825   3.80625 -4.25   ]\n",
            " [25.6516   9.5572  10.026    3.9148 ]]\n"
          ]
        }
      ]
    },
    {
      "cell_type": "code",
      "source": [
        "class Dense_Layer:\n",
        "  def __init__(self, n_inputs, n_layers):\n",
        "    self.weights = np.random.randn(n_inputs, n_layers) * 0.01\n",
        "    self.biases = np.zeros((n_inputs, n_layers)) * 0.01\n",
        "  def forward(self, inputs):\n",
        "    self.output = np.dot(inputs, np.array(self.weights)) + self.biases\n",
        "\n",
        "\n"
      ],
      "metadata": {
        "id": "HASQQJFD7Ywp"
      },
      "execution_count": 37,
      "outputs": []
    },
    {
      "cell_type": "code",
      "source": [
        "!pip install nnfs"
      ],
      "metadata": {
        "id": "e_0R8jZl_3cr"
      },
      "execution_count": null,
      "outputs": []
    },
    {
      "cell_type": "code",
      "source": [
        "from nnfs.datasets import spiral_data\n",
        "from matplotlib import pyplot as plt\n",
        "X, y = spiral_data(samples = 80, classes = 3)\n",
        "plt.scatter(X[:,0], X[:,1])\n",
        "plt.show()"
      ],
      "metadata": {
        "id": "4GwHBJKX_9uM"
      },
      "execution_count": null,
      "outputs": []
    },
    {
      "cell_type": "code",
      "source": [
        "dense_layer1 = Dense_Layer(2, 3)\n",
        "dense_layer1.forward(X)\n",
        "print(dense_layer1.output)"
      ],
      "metadata": {
        "id": "M1qsrSlZAu2u"
      },
      "execution_count": null,
      "outputs": []
    },
    {
      "cell_type": "code",
      "source": [
        "class Relu:\n",
        "  def forward(self, inputs):\n",
        "    self.output = np.maximum(0, inputs)"
      ],
      "metadata": {
        "id": "Dvk-4Bn4BnK0"
      },
      "execution_count": 30,
      "outputs": []
    },
    {
      "cell_type": "code",
      "source": [
        "x = [1,4,2,5436,-75,648,-67,98]\n",
        "print(np.maximum(0, x))"
      ],
      "metadata": {
        "id": "Re1KHjxjC2JX"
      },
      "execution_count": null,
      "outputs": []
    },
    {
      "cell_type": "code",
      "source": [
        "class Sigmoid:\n",
        "  def forward(self, inputs):\n",
        "    self.output = 1 / ( 1 + np.exp(-inputs) )\n",
        "\n",
        "class Softmax:\n",
        "  def forward(self, inputs):\n",
        "    exp =  np.exp(inputs)\n",
        "    prop = exp / np.sum(exp, axis=1, keepdims=True)\n",
        "    self.output = prop"
      ],
      "metadata": {
        "id": "iPtNVM01DDSM"
      },
      "execution_count": 31,
      "outputs": []
    },
    {
      "cell_type": "code",
      "source": [
        "X, y = spiral_data(samples=100, classes=3)\n",
        "d1 = Dense_Layer(2,3)\n",
        "d2 = Dense_Layer(3,3)\n",
        "d3 = Dense_Layer(3,2)\n",
        "af1 = Relu()\n",
        "af2 = Relu()\n",
        "af3 = Sigmoid()\n",
        "print(d1.forward(X))\n",
        "print(af1(d1.output))"
      ],
      "metadata": {
        "colab": {
          "base_uri": "https://localhost:8080/",
          "height": 348
        },
        "id": "PoZy-efwErIT",
        "outputId": "56c86cd0-dd8d-4a66-ccb2-51ca64c0534c"
      },
      "execution_count": 38,
      "outputs": [
        {
          "output_type": "error",
          "ename": "ValueError",
          "evalue": "ignored",
          "traceback": [
            "\u001b[0;31m---------------------------------------------------------------------------\u001b[0m",
            "\u001b[0;31mValueError\u001b[0m                                Traceback (most recent call last)",
            "\u001b[0;32m<ipython-input-38-a21e01f9f0c4>\u001b[0m in \u001b[0;36m<module>\u001b[0;34m()\u001b[0m\n\u001b[1;32m      6\u001b[0m \u001b[0maf2\u001b[0m \u001b[0;34m=\u001b[0m \u001b[0mRelu\u001b[0m\u001b[0;34m(\u001b[0m\u001b[0;34m)\u001b[0m\u001b[0;34m\u001b[0m\u001b[0;34m\u001b[0m\u001b[0m\n\u001b[1;32m      7\u001b[0m \u001b[0maf3\u001b[0m \u001b[0;34m=\u001b[0m \u001b[0mSigmoid\u001b[0m\u001b[0;34m(\u001b[0m\u001b[0;34m)\u001b[0m\u001b[0;34m\u001b[0m\u001b[0;34m\u001b[0m\u001b[0m\n\u001b[0;32m----> 8\u001b[0;31m \u001b[0mprint\u001b[0m\u001b[0;34m(\u001b[0m\u001b[0md1\u001b[0m\u001b[0;34m.\u001b[0m\u001b[0mforward\u001b[0m\u001b[0;34m(\u001b[0m\u001b[0mX\u001b[0m\u001b[0;34m)\u001b[0m\u001b[0;34m)\u001b[0m\u001b[0;34m\u001b[0m\u001b[0;34m\u001b[0m\u001b[0m\n\u001b[0m\u001b[1;32m      9\u001b[0m \u001b[0mprint\u001b[0m\u001b[0;34m(\u001b[0m\u001b[0maf1\u001b[0m\u001b[0;34m(\u001b[0m\u001b[0md1\u001b[0m\u001b[0;34m.\u001b[0m\u001b[0moutput\u001b[0m\u001b[0;34m)\u001b[0m\u001b[0;34m)\u001b[0m\u001b[0;34m\u001b[0m\u001b[0;34m\u001b[0m\u001b[0m\n",
            "\u001b[0;32m<ipython-input-37-ac9289a4edf9>\u001b[0m in \u001b[0;36mforward\u001b[0;34m(self, inputs)\u001b[0m\n\u001b[1;32m      4\u001b[0m     \u001b[0mself\u001b[0m\u001b[0;34m.\u001b[0m\u001b[0mbiases\u001b[0m \u001b[0;34m=\u001b[0m \u001b[0mnp\u001b[0m\u001b[0;34m.\u001b[0m\u001b[0mzeros\u001b[0m\u001b[0;34m(\u001b[0m\u001b[0;34m(\u001b[0m\u001b[0mn_inputs\u001b[0m\u001b[0;34m,\u001b[0m \u001b[0mn_layers\u001b[0m\u001b[0;34m)\u001b[0m\u001b[0;34m)\u001b[0m \u001b[0;34m*\u001b[0m \u001b[0;36m0.01\u001b[0m\u001b[0;34m\u001b[0m\u001b[0;34m\u001b[0m\u001b[0m\n\u001b[1;32m      5\u001b[0m   \u001b[0;32mdef\u001b[0m \u001b[0mforward\u001b[0m\u001b[0;34m(\u001b[0m\u001b[0mself\u001b[0m\u001b[0;34m,\u001b[0m \u001b[0minputs\u001b[0m\u001b[0;34m)\u001b[0m\u001b[0;34m:\u001b[0m\u001b[0;34m\u001b[0m\u001b[0;34m\u001b[0m\u001b[0m\n\u001b[0;32m----> 6\u001b[0;31m     \u001b[0mself\u001b[0m\u001b[0;34m.\u001b[0m\u001b[0moutput\u001b[0m \u001b[0;34m=\u001b[0m \u001b[0mnp\u001b[0m\u001b[0;34m.\u001b[0m\u001b[0mdot\u001b[0m\u001b[0;34m(\u001b[0m\u001b[0minputs\u001b[0m\u001b[0;34m,\u001b[0m \u001b[0mnp\u001b[0m\u001b[0;34m.\u001b[0m\u001b[0marray\u001b[0m\u001b[0;34m(\u001b[0m\u001b[0mself\u001b[0m\u001b[0;34m.\u001b[0m\u001b[0mweights\u001b[0m\u001b[0;34m)\u001b[0m\u001b[0;34m)\u001b[0m \u001b[0;34m+\u001b[0m \u001b[0mself\u001b[0m\u001b[0;34m.\u001b[0m\u001b[0mbiases\u001b[0m\u001b[0;34m\u001b[0m\u001b[0;34m\u001b[0m\u001b[0m\n\u001b[0m\u001b[1;32m      7\u001b[0m \u001b[0;34m\u001b[0m\u001b[0m\n\u001b[1;32m      8\u001b[0m \u001b[0;34m\u001b[0m\u001b[0m\n",
            "\u001b[0;31mValueError\u001b[0m: operands could not be broadcast together with shapes (300,3) (2,3) "
          ]
        }
      ]
    },
    {
      "cell_type": "markdown",
      "source": [
        ""
      ],
      "metadata": {
        "id": "EgSUo7hG-K-S"
      }
    }
  ]
}